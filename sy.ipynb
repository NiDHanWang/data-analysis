{
 "cells": [
  {
   "cell_type": "markdown",
   "metadata": {},
   "source": [
    "# 目录\n",
    "#### 1.提出问题\n",
    "#### 2.理解数据\n",
    "#### 3.清理数据\n",
    "#### 4.建模分析\n",
    "#### 5.提出建议"
   ]
  },
  {
   "cell_type": "markdown",
   "metadata": {},
   "source": [
    "\n"
   ]
  },
  {
   "cell_type": "markdown",
   "metadata": {},
   "source": [
    "## 1. 提出问题"
   ]
  },
  {
   "cell_type": "markdown",
   "metadata": {},
   "source": [
    "每天淘宝都有大量的用户访问量，但最终完成交易的用户只是其中极少数；\n",
    "\n",
    "为改善整个购物流程中的流失率，将通过研究用户行为回答以下几个细分问题："
   ]
  },
  {
   "cell_type": "markdown",
   "metadata": {},
   "source": [
    "\n",
    "1. 付费流程各个环节的流失率\n",
    "2. 不同用户的行为特征\n",
    "3. 转化环节流失原因\n",
    "4. 提出改善建议"
   ]
  },
  {
   "cell_type": "markdown",
   "metadata": {},
   "source": [
    "分析思路："
   ]
  },
  {
   "cell_type": "markdown",
   "metadata": {},
   "source": [
    "1. 参考AARRR模型，将用户行为分为多个流程环节,查看用户在各个环节的流失率\n",
    "\n",
    "2. 按转化率划分用户，从多角度考察不同用户的行为特征，协助下一步研究流失原因\n",
    "\n",
    "3. 采用假设检验，对比分析等方法结合之前两步研究结果探索流失原因\n",
    "\n",
    "4. 综合上述研究结论提出建议"
   ]
  },
  {
   "cell_type": "markdown",
   "metadata": {},
   "source": [
    "\n"
   ]
  },
  {
   "cell_type": "markdown",
   "metadata": {},
   "source": [
    "## 2. 理解数据"
   ]
  },
  {
   "cell_type": "markdown",
   "metadata": {},
   "source": [
    "### 2.1 数据来源"
   ]
  },
  {
   "cell_type": "markdown",
   "metadata": {},
   "source": [
    "数据来自阿里天池：https://tianchi.aliyun.com/dataset/dataDetail?dataId=649&userId=1\n",
    "\n",
    "选取了淘宝2017-11-25至2017-12-3之间的用户行为数据，约有一亿多条数据"
   ]
  },
  {
   "cell_type": "markdown",
   "metadata": {},
   "source": [
    "### 2.2 理解数据"
   ]
  },
  {
   "cell_type": "markdown",
   "metadata": {},
   "source": [
    "**User_ID**：用户id\n",
    "\n",
    "**Item_ID**：商品id\n",
    "\n",
    "**Category_ID**: 商品类目id\n",
    "\n",
    "**Behavior_type**：用户行为\n",
    "* pv浏览商品详情页\n",
    "* buy表示商品购买\n",
    "* cart表示加入购物车\n",
    "* fav表示收藏\n",
    "\n",
    "**Timestamp**：用户行为发生时间戳"
   ]
  },
  {
   "cell_type": "markdown",
   "metadata": {},
   "source": [
    "## 3.清理数据"
   ]
  },
  {
   "cell_type": "markdown",
   "metadata": {},
   "source": [
    "### 3.1 导入数据"
   ]
  },
  {
   "cell_type": "code",
   "execution_count": 1,
   "metadata": {},
   "outputs": [],
   "source": [
    "import pandas as pd\n",
    "import numpy as np\n",
    "import matplotlib.pyplot as plt\n",
    "import seaborn as sns\n",
    "from datetime import datetime\n",
    "from pylab import mpl\n",
    "from pyecharts import options as opts\n",
    "from pyecharts.charts import Funnel\n",
    "from pyecharts.charts import Line\n",
    "from pyecharts.charts import Grid\n",
    "from pyecharts.charts import Bar\n",
    "from pyecharts.charts import Pie\n",
    "mpl.rcParams['font.sans-serif']=['SimHei']\n",
    "\n",
    "pd.options.display.max_rows=10\n",
    "pd.set_option('float_format', lambda x: '%.3f' % x)"
   ]
  },
  {
   "cell_type": "code",
   "execution_count": null,
   "metadata": {},
   "outputs": [],
   "source": [
    "data_orignal=pd.read_csv('D:/CHROME下载/UserBehavior.csv/UserBehavior.csv',header=None)\n",
    "data_orignal.columns=['User_ID','Item_ID','Category_ID','Behavior_type','Timestamp']"
   ]
  },
  {
   "cell_type": "markdown",
   "metadata": {},
   "source": [
    "由于数据集过大，挑选约500万条数据"
   ]
  },
  {
   "cell_type": "code",
   "execution_count": 9,
   "metadata": {},
   "outputs": [],
   "source": [
    "k=int(len(data_orignal)/20)\n",
    "data_partial=data_orignal.sample(k)\n",
    "data_partial.to_csv('D:/CHROME下载/data_partial.csv',index=False)"
   ]
  },
  {
   "cell_type": "markdown",
   "metadata": {},
   "source": [
    "### 3.2 处理缺失值"
   ]
  },
  {
   "cell_type": "code",
   "execution_count": 68,
   "metadata": {},
   "outputs": [],
   "source": [
    "data_partial=pd.read_csv('D:/CHROME下载/用户行为/data_partial.csv')"
   ]
  },
  {
   "cell_type": "code",
   "execution_count": 7,
   "metadata": {
    "scrolled": false
   },
   "outputs": [
    {
     "name": "stdout",
     "output_type": "stream",
     "text": [
      "<class 'pandas.core.frame.DataFrame'>\n",
      "RangeIndex: 5007540 entries, 0 to 5007539\n",
      "Data columns (total 5 columns):\n",
      "User_ID          int64\n",
      "Item_ID          int64\n",
      "Category_ID      int64\n",
      "Behavior_type    object\n",
      "Timestamp        int64\n",
      "dtypes: int64(4), object(1)\n",
      "memory usage: 191.0+ MB\n"
     ]
    }
   ],
   "source": [
    "data_partial.info()"
   ]
  },
  {
   "cell_type": "markdown",
   "metadata": {},
   "source": [
    "可见没有缺失值"
   ]
  },
  {
   "cell_type": "markdown",
   "metadata": {},
   "source": [
    "### 3.3处理异常值"
   ]
  },
  {
   "cell_type": "markdown",
   "metadata": {},
   "source": [
    "初步整理数据\n",
    "1. 删除重复值\n",
    "2. 将时间列从整数转为时间类型"
   ]
  },
  {
   "cell_type": "code",
   "execution_count": 69,
   "metadata": {},
   "outputs": [],
   "source": [
    "data_partial=data_partial.drop_duplicates(subset=['User_ID','Item_ID','Timestamp'])\n",
    "data_partial['Times']=pd.to_datetime(data_partial.Timestamp,unit='s',utc=False)"
   ]
  },
  {
   "cell_type": "markdown",
   "metadata": {},
   "source": [
    "整理时间序列\n",
    "1. 将范围外的时间数据去除\n",
    "2. 将时间列拆为日期，时间，一周中的日期"
   ]
  },
  {
   "cell_type": "code",
   "execution_count": 70,
   "metadata": {
    "scrolled": true
   },
   "outputs": [],
   "source": [
    "data_partial=data_partial[data_partial.Times.between(datetime(2017,11,25),datetime(2017,12,3))]\n",
    "data_partial['date']=data_partial.Times.dt.date\n",
    "data_partial['time']=data_partial.Times.dt.time\n",
    "data_partial['day_of_week']=data_partial.Times.dt.dayofweek"
   ]
  },
  {
   "cell_type": "code",
   "execution_count": 71,
   "metadata": {
    "scrolled": true
   },
   "outputs": [
    {
     "data": {
      "text/html": [
       "<div>\n",
       "<style scoped>\n",
       "    .dataframe tbody tr th:only-of-type {\n",
       "        vertical-align: middle;\n",
       "    }\n",
       "\n",
       "    .dataframe tbody tr th {\n",
       "        vertical-align: top;\n",
       "    }\n",
       "\n",
       "    .dataframe thead th {\n",
       "        text-align: right;\n",
       "    }\n",
       "</style>\n",
       "<table border=\"1\" class=\"dataframe\">\n",
       "  <thead>\n",
       "    <tr style=\"text-align: right;\">\n",
       "      <th></th>\n",
       "      <th>User_ID</th>\n",
       "      <th>Item_ID</th>\n",
       "      <th>Category_ID</th>\n",
       "      <th>Timestamp</th>\n",
       "      <th>day_of_week</th>\n",
       "    </tr>\n",
       "  </thead>\n",
       "  <tbody>\n",
       "    <tr>\n",
       "      <th>count</th>\n",
       "      <td>4348464.000</td>\n",
       "      <td>4348464.000</td>\n",
       "      <td>4348464.000</td>\n",
       "      <td>4348464.000</td>\n",
       "      <td>4348464.000</td>\n",
       "    </tr>\n",
       "    <tr>\n",
       "      <th>mean</th>\n",
       "      <td>507119.149</td>\n",
       "      <td>2579722.915</td>\n",
       "      <td>2696303.607</td>\n",
       "      <td>1511921508.924</td>\n",
       "      <td>3.364</td>\n",
       "    </tr>\n",
       "    <tr>\n",
       "      <th>std</th>\n",
       "      <td>294109.168</td>\n",
       "      <td>1487876.511</td>\n",
       "      <td>1462801.304</td>\n",
       "      <td>205142.600</td>\n",
       "      <td>1.955</td>\n",
       "    </tr>\n",
       "    <tr>\n",
       "      <th>min</th>\n",
       "      <td>2.000</td>\n",
       "      <td>4.000</td>\n",
       "      <td>80.000</td>\n",
       "      <td>1511568000.000</td>\n",
       "      <td>0.000</td>\n",
       "    </tr>\n",
       "    <tr>\n",
       "      <th>25%</th>\n",
       "      <td>252711.000</td>\n",
       "      <td>1294819.000</td>\n",
       "      <td>1320293.000</td>\n",
       "      <td>1511747232.000</td>\n",
       "      <td>2.000</td>\n",
       "    </tr>\n",
       "    <tr>\n",
       "      <th>50%</th>\n",
       "      <td>504073.000</td>\n",
       "      <td>2581359.000</td>\n",
       "      <td>2671397.000</td>\n",
       "      <td>1511932559.000</td>\n",
       "      <td>4.000</td>\n",
       "    </tr>\n",
       "    <tr>\n",
       "      <th>75%</th>\n",
       "      <td>761369.000</td>\n",
       "      <td>3860896.000</td>\n",
       "      <td>4145813.000</td>\n",
       "      <td>1512110842.250</td>\n",
       "      <td>5.000</td>\n",
       "    </tr>\n",
       "    <tr>\n",
       "      <th>max</th>\n",
       "      <td>1018011.000</td>\n",
       "      <td>5163064.000</td>\n",
       "      <td>5161669.000</td>\n",
       "      <td>1512259200.000</td>\n",
       "      <td>6.000</td>\n",
       "    </tr>\n",
       "  </tbody>\n",
       "</table>\n",
       "</div>"
      ],
      "text/plain": [
       "          User_ID     Item_ID  Category_ID      Timestamp  day_of_week\n",
       "count 4348464.000 4348464.000  4348464.000    4348464.000  4348464.000\n",
       "mean   507119.149 2579722.915  2696303.607 1511921508.924        3.364\n",
       "std    294109.168 1487876.511  1462801.304     205142.600        1.955\n",
       "min         2.000       4.000       80.000 1511568000.000        0.000\n",
       "25%    252711.000 1294819.000  1320293.000 1511747232.000        2.000\n",
       "50%    504073.000 2581359.000  2671397.000 1511932559.000        4.000\n",
       "75%    761369.000 3860896.000  4145813.000 1512110842.250        5.000\n",
       "max   1018011.000 5163064.000  5161669.000 1512259200.000        6.000"
      ]
     },
     "execution_count": 71,
     "metadata": {},
     "output_type": "execute_result"
    }
   ],
   "source": [
    "data_partial.describe()"
   ]
  },
  {
   "cell_type": "markdown",
   "metadata": {},
   "source": [
    "\n",
    "\n"
   ]
  },
  {
   "cell_type": "markdown",
   "metadata": {},
   "source": [
    "## 4. 建模分析"
   ]
  },
  {
   "cell_type": "markdown",
   "metadata": {},
   "source": [
    "### 4.1 各个环节的用户流失率"
   ]
  },
  {
   "cell_type": "markdown",
   "metadata": {},
   "source": [
    "比照AARRR模型，将用户按照其行为分为几个环节：\n",
    "1. pv\n",
    "2. cart\n",
    "3. fav\n",
    "4. buy"
   ]
  },
  {
   "cell_type": "code",
   "execution_count": 212,
   "metadata": {},
   "outputs": [
    {
     "data": {
      "text/plain": [
       "'<!DOCTYPE html>\\n<html>\\n<head>\\n    <meta charset=\"UTF-8\">\\n    <title>Awesome-pyecharts</title>\\n            <script type=\"text/javascript\" src=\"https://assets.pyecharts.org/assets/echarts.min.js\"></script>\\n\\n</head>\\n<body>\\n    <div id=\"56bb9ae59f1843c49be4cf6e5de72647\" class=\"chart-container\" style=\"width:900px; height:500px;\"></div>\\n    <script>\\n        var chart_56bb9ae59f1843c49be4cf6e5de72647 = echarts.init(\\n            document.getElementById(\\'56bb9ae59f1843c49be4cf6e5de72647\\'), \\'white\\', {renderer: \\'canvas\\'});\\n        var option_56bb9ae59f1843c49be4cf6e5de72647 = {\\n    \"animation\": true,\\n    \"animationThreshold\": 2000,\\n    \"animationDuration\": 1000,\\n    \"animationEasing\": \"cubicOut\",\\n    \"animationDelay\": 0,\\n    \"animationDurationUpdate\": 300,\\n    \"animationEasingUpdate\": \"cubicOut\",\\n    \"animationDelayUpdate\": 0,\\n    \"color\": [\\n        \"#c23531\",\\n        \"#2f4554\",\\n        \"#61a0a8\",\\n        \"#d48265\",\\n        \"#749f83\",\\n        \"#ca8622\",\\n        \"#bda29a\",\\n        \"#6e7074\",\\n        \"#546570\",\\n        \"#c4ccd3\",\\n        \"#f05b72\",\\n        \"#ef5b9c\",\\n        \"#f47920\",\\n        \"#905a3d\",\\n        \"#fab27b\",\\n        \"#2a5caa\",\\n        \"#444693\",\\n        \"#726930\",\\n        \"#b2d235\",\\n        \"#6d8346\",\\n        \"#ac6767\",\\n        \"#1d953f\",\\n        \"#6950a1\",\\n        \"#918597\"\\n    ],\\n    \"series\": [\\n        {\\n            \"type\": \"funnel\",\\n            \"name\": \"\\\\u884c\\\\u4e3a\",\\n            \"data\": [\\n                {\\n                    \"name\": \"pv\",\\n                    \"value\": 3894815\\n                },\\n                {\\n                    \"name\": \"cart\",\\n                    \"value\": 239762\\n                },\\n                {\\n                    \"name\": \"fav\",\\n                    \"value\": 125686\\n                },\\n                {\\n                    \"name\": \"buy\",\\n                    \"value\": 88201\\n                }\\n            ],\\n            \"sort\": \"descending\",\\n            \"gap\": 0,\\n            \"label\": {\\n                \"show\": true,\\n                \"position\": \"inside\",\\n                \"margin\": 8\\n            }\\n        }\\n    ],\\n    \"legend\": [\\n        {\\n            \"data\": [\\n                \"buy\",\\n                \"cart\",\\n                \"pv\",\\n                \"fav\"\\n            ],\\n            \"selected\": {\\n                \"pv\": true,\\n                \"cart\": true,\\n                \"fav\": true,\\n                \"buy\": true\\n            },\\n            \"show\": true\\n        }\\n    ],\\n    \"tooltip\": {\\n        \"show\": true,\\n        \"trigger\": \"item\",\\n        \"triggerOn\": \"mousemove|click\",\\n        \"axisPointer\": {\\n            \"type\": \"line\"\\n        },\\n        \"textStyle\": {\\n            \"fontSize\": 14\\n        },\\n        \"borderWidth\": 0\\n    },\\n    \"title\": [\\n        {\\n            \"text\": \"\\\\u7528\\\\u6237\\\\u884c\\\\u4e3a\\\\u6f0f\\\\u6597\"\\n        }\\n    ]\\n};\\n        chart_56bb9ae59f1843c49be4cf6e5de72647.setOption(option_56bb9ae59f1843c49be4cf6e5de72647);\\n    </script>\\n</body>\\n</html>\\n'"
      ]
     },
     "execution_count": 212,
     "metadata": {},
     "output_type": "execute_result"
    }
   ],
   "source": [
    "temp=data_partial.Behavior_type.value_counts()\n",
    "c = (\n",
    "    Funnel()\n",
    "    .add(\n",
    "        \"行为\",\n",
    "        [list(z) for z in zip(temp.index.tolist(),temp.tolist())],\n",
    "        label_opts=opts.LabelOpts(position=\"inside\"),\n",
    "    )\n",
    "    .set_global_opts(title_opts=opts.TitleOpts(title=\"用户行为漏斗\"))   \n",
    "    \n",
    ")\n",
    "c.render_embed()"
   ]
  },
  {
   "cell_type": "markdown",
   "metadata": {},
   "source": [
    "可以看到最大的流失环节出现在第一步到第二步转化中"
   ]
  },
  {
   "cell_type": "markdown",
   "metadata": {},
   "source": [
    "### 4.2 不同用户的行为特征"
   ]
  },
  {
   "cell_type": "markdown",
   "metadata": {},
   "source": [
    "**为研究用户流失原因，在这一步我们要研究：**\n",
    "\n",
    "**不同转化率的用户，其行为特征有何不同** "
   ]
  },
  {
   "cell_type": "markdown",
   "metadata": {},
   "source": [
    "首先根据转化率分布定义界定高转化率\n",
    "*(转化率：用户购买数/用户浏览数)*"
   ]
  },
  {
   "cell_type": "code",
   "execution_count": 73,
   "metadata": {},
   "outputs": [],
   "source": [
    "def count_ratio(x):\n",
    "    return list(x).count('buy')/x.count()\n",
    "ctr=data_partial.groupby('User_ID')['Behavior_type'].apply(count_ratio)\n",
    "ctr_without0=ctr[ctr.values>0]"
   ]
  },
  {
   "cell_type": "markdown",
   "metadata": {},
   "source": [
    "查看用户转化率的分布："
   ]
  },
  {
   "cell_type": "code",
   "execution_count": 203,
   "metadata": {},
   "outputs": [
    {
     "data": {
      "image/png": "[encoded data removed]",
      "text/plain": [
       "<Figure size 864x720 with 2 Axes>"
      ]
     },
     "metadata": {
      "needs_background": "light"
     },
     "output_type": "display_data"
    }
   ],
   "source": [
    "fig,ax=plt.subplots(2,1,sharex=True)\n",
    "fig.set_size_inches(12,10)\n",
    "sns.distplot(ctr_without0,ax=ax[0])\n",
    "sns.distplot(ctr,ax=ax[1])\n",
    "sns.despine(top=True)\n",
    "\n",
    "ax[0].set(title='转化率分布-忽略转换率为0',xlabel='')\n",
    "ax[1].set(title='转化率分布-包含转换率为0',xlabel='')\n",
    "\n",
    "sns.set_palette('Paired')\n",
    "sns.despine(left=True,bottom=True)"
   ]
  },
  {
   "cell_type": "markdown",
   "metadata": {},
   "source": [
    "**发现**：\n",
    "1. 大部分用户的转化率为0\n",
    "2. 除0以外大部分用户转化率在40%以下\n",
    "\n",
    "**所以定义**：\n",
    "\n",
    "高转化率用户转化率为20%以上"
   ]
  },
  {
   "cell_type": "code",
   "execution_count": 74,
   "metadata": {},
   "outputs": [],
   "source": [
    "#将转化率添加至表格\n",
    "high_ctr=ctr[ctr>0.2]\n",
    "data_highctr=data_partial.merge(high_ctr,how='inner',left_on='User_ID',right_index=True)\n",
    "data_highctr=data_highctr.rename(columns={'Behavior_type_x':'Behavior_type','Behavior_type_y':'ctr'})\n",
    "data_ctr=data_partial.merge(ctr,how='left',left_on='User_ID',right_index=True)\n",
    "data_ctr=data_ctr.rename(columns={'Behavior_type_x':'Behavior_type','Behavior_type_y':'ctr'})"
   ]
  },
  {
   "cell_type": "markdown",
   "metadata": {},
   "source": [
    "现从以下4个角度分析高转化率用户的行为特征：\n",
    "1. 浏览商品种类数量\n",
    "2. 从浏览到下单花费的时间\n",
    "3. 下单时间所在时间段\n",
    "4. 浏览时间时间段"
   ]
  },
  {
   "cell_type": "markdown",
   "metadata": {},
   "source": [
    "#### 4.2.1 浏览商品种类数量"
   ]
  },
  {
   "cell_type": "markdown",
   "metadata": {},
   "source": [
    "**发现**\n",
    "    有部分用户没有经历pv就已经购买，这不符合实际操作规律\n",
    "\n",
    "**认为**\n",
    "    pv,cart,fav行为在该记录时段之前发生\n",
    "    \n",
    "**因此**\n",
    "    剔除这部分用户"
   ]
  },
  {
   "cell_type": "code",
   "execution_count": 75,
   "metadata": {},
   "outputs": [],
   "source": [
    "def count_pv(x):\n",
    "    return list(x.Behavior_type).count('pv')\n",
    "user_pv_count_highctr=data_highctr.groupby(['User_ID','Item_ID']).apply(count_pv)\n",
    "user_pv_count_highctr_no0=user_pv_count_highctr[user_pv_count_highctr>0]\n",
    "user_pv_count_highctr_no0=user_pv_count_highctr_no0.reset_index([0,1]).groupby(['User_ID','Item_ID']).sum().rename(columns={0:'pv_count'})\n",
    "\n",
    "data_highctr_pv_no0=data_highctr.merge(user_pv_count_highctr_no0,how='inner',left_on=['User_ID','Item_ID'],right_on=['User_ID','Item_ID'])"
   ]
  },
  {
   "cell_type": "markdown",
   "metadata": {},
   "source": [
    "查看不同转化率下，用户pv的平均数量"
   ]
  },
  {
   "cell_type": "code",
   "execution_count": 208,
   "metadata": {},
   "outputs": [
    {
     "data": {
      "text/html": [
       "\n",
       "<script>\n",
       "    require.config({\n",
       "        paths: {\n",
       "            'echarts':'https://assets.pyecharts.org/assets/echarts.min'\n",
       "        }\n",
       "    });\n",
       "</script>\n",
       "\n",
       "        <div id=\"e3c4dc59928c4821847699f567a9b31e\" style=\"width:900px; height:500px;\"></div>\n",
       "\n",
       "<script>\n",
       "        require(['echarts'], function(echarts) {\n",
       "                var chart_e3c4dc59928c4821847699f567a9b31e = echarts.init(\n",
       "                    document.getElementById('e3c4dc59928c4821847699f567a9b31e'), 'white', {renderer: 'canvas'});\n",
       "                var option_e3c4dc59928c4821847699f567a9b31e = {\n",
       "    \"animation\": true,\n",
       "    \"animationThreshold\": 2000,\n",
       "    \"animationDuration\": 1000,\n",
       "    \"animationEasing\": \"cubicOut\",\n",
       "    \"animationDelay\": 0,\n",
       "    \"animationDurationUpdate\": 300,\n",
       "    \"animationEasingUpdate\": \"cubicOut\",\n",
       "    \"animationDelayUpdate\": 0,\n",
       "    \"color\": [\n",
       "        \"#0EADB5\",\n",
       "        \"#c23531\",\n",
       "        \"#2f4554\",\n",
       "        \"#61a0a8\",\n",
       "        \"#d48265\",\n",
       "        \"#749f83\",\n",
       "        \"#ca8622\",\n",
       "        \"#bda29a\",\n",
       "        \"#6e7074\",\n",
       "        \"#546570\",\n",
       "        \"#c4ccd3\",\n",
       "        \"#f05b72\",\n",
       "        \"#ef5b9c\",\n",
       "        \"#f47920\",\n",
       "        \"#905a3d\",\n",
       "        \"#fab27b\",\n",
       "        \"#2a5caa\",\n",
       "        \"#444693\",\n",
       "        \"#726930\",\n",
       "        \"#b2d235\",\n",
       "        \"#6d8346\",\n",
       "        \"#ac6767\",\n",
       "        \"#1d953f\",\n",
       "        \"#6950a1\",\n",
       "        \"#918597\"\n",
       "    ],\n",
       "    \"series\": [\n",
       "        {\n",
       "            \"type\": \"line\",\n",
       "            \"connectNulls\": false,\n",
       "            \"symbolSize\": 4,\n",
       "            \"showSymbol\": true,\n",
       "            \"smooth\": true,\n",
       "            \"step\": false,\n",
       "            \"data\": [\n",
       "                [\n",
       "                    0.21052631578947367,\n",
       "                    14.333333333333334\n",
       "                ],\n",
       "                [\n",
       "                    0.21428571428571427,\n",
       "                    9.658536585365853\n",
       "                ],\n",
       "                [\n",
       "                    0.2222222222222222,\n",
       "                    6.347708894878706\n",
       "                ],\n",
       "                [\n",
       "                    0.22727272727272727,\n",
       "                    15.0\n",
       "                ],\n",
       "                [\n",
       "                    0.23076923076923078,\n",
       "                    9.121212121212121\n",
       "                ],\n",
       "                [\n",
       "                    0.23529411764705882,\n",
       "                    12.0\n",
       "                ],\n",
       "                [\n",
       "                    0.25,\n",
       "                    2.905540199495253\n",
       "                ],\n",
       "                [\n",
       "                    0.2608695652173913,\n",
       "                    17.0\n",
       "                ],\n",
       "                [\n",
       "                    0.2631578947368421,\n",
       "                    14.0\n",
       "                ],\n",
       "                [\n",
       "                    0.26666666666666666,\n",
       "                    10.142857142857142\n",
       "                ],\n",
       "                [\n",
       "                    0.2727272727272727,\n",
       "                    7.413043478260869\n",
       "                ],\n",
       "                [\n",
       "                    0.2777777777777778,\n",
       "                    10.0\n",
       "                ],\n",
       "                [\n",
       "                    0.2857142857142857,\n",
       "                    4.564453125\n",
       "                ],\n",
       "                [\n",
       "                    0.2962962962962963,\n",
       "                    16.0\n",
       "                ],\n",
       "                [\n",
       "                    0.3,\n",
       "                    6.0638297872340425\n",
       "                ],\n",
       "                [\n",
       "                    0.3076923076923077,\n",
       "                    8.0\n",
       "                ],\n",
       "                [\n",
       "                    0.3125,\n",
       "                    10.0\n",
       "                ],\n",
       "                [\n",
       "                    0.3157894736842105,\n",
       "                    10.0\n",
       "                ],\n",
       "                [\n",
       "                    0.3333333333333333,\n",
       "                    1.9748099891422366\n",
       "                ],\n",
       "                [\n",
       "                    0.35294117647058826,\n",
       "                    7.0\n",
       "                ],\n",
       "                [\n",
       "                    0.35714285714285715,\n",
       "                    8.5\n",
       "                ],\n",
       "                [\n",
       "                    0.36363636363636365,\n",
       "                    6.083333333333333\n",
       "                ],\n",
       "                [\n",
       "                    0.375,\n",
       "                    4.52\n",
       "                ],\n",
       "                [\n",
       "                    0.4,\n",
       "                    2.7017543859649122\n",
       "                ],\n",
       "                [\n",
       "                    0.4166666666666667,\n",
       "                    6.5\n",
       "                ],\n",
       "                [\n",
       "                    0.42857142857142855,\n",
       "                    3.6153846153846154\n",
       "                ],\n",
       "                [\n",
       "                    0.4444444444444444,\n",
       "                    4.333333333333333\n",
       "                ],\n",
       "                [\n",
       "                    0.45454545454545453,\n",
       "                    6.0\n",
       "                ],\n",
       "                [\n",
       "                    0.5,\n",
       "                    1.072858188918721\n",
       "                ],\n",
       "                [\n",
       "                    0.5384615384615384,\n",
       "                    4.0\n",
       "                ],\n",
       "                [\n",
       "                    0.5555555555555556,\n",
       "                    4.0\n",
       "                ],\n",
       "                [\n",
       "                    0.5714285714285714,\n",
       "                    2.5\n",
       "                ],\n",
       "                [\n",
       "                    0.6,\n",
       "                    1.816326530612245\n",
       "                ],\n",
       "                [\n",
       "                    0.625,\n",
       "                    2.0\n",
       "                ],\n",
       "                [\n",
       "                    0.6363636363636364,\n",
       "                    3.0\n",
       "                ],\n",
       "                [\n",
       "                    0.6666666666666666,\n",
       "                    1.0200892857142858\n",
       "                ],\n",
       "                [\n",
       "                    0.7142857142857143,\n",
       "                    2.0\n",
       "                ],\n",
       "                [\n",
       "                    0.75,\n",
       "                    1.0\n",
       "                ],\n",
       "                [\n",
       "                    0.8,\n",
       "                    1.0\n",
       "                ],\n",
       "                [\n",
       "                    0.8333333333333334,\n",
       "                    1.0\n",
       "                ]\n",
       "            ],\n",
       "            \"hoverAnimation\": true,\n",
       "            \"label\": {\n",
       "                \"show\": false,\n",
       "                \"position\": \"top\",\n",
       "                \"margin\": 8\n",
       "            },\n",
       "            \"lineStyle\": {\n",
       "                \"width\": 1,\n",
       "                \"opacity\": 1,\n",
       "                \"curveness\": 0,\n",
       "                \"type\": \"solid\"\n",
       "            },\n",
       "            \"areaStyle\": {\n",
       "                \"opacity\": 0.5\n",
       "            },\n",
       "            \"rippleEffect\": {\n",
       "                \"show\": true,\n",
       "                \"brushType\": \"stroke\",\n",
       "                \"scale\": 2.5,\n",
       "                \"period\": 4\n",
       "            }\n",
       "        }\n",
       "    ],\n",
       "    \"legend\": [\n",
       "        {\n",
       "            \"data\": [\n",
       "                \"\"\n",
       "            ],\n",
       "            \"selected\": {\n",
       "                \"\": true\n",
       "            },\n",
       "            \"show\": true\n",
       "        }\n",
       "    ],\n",
       "    \"tooltip\": {\n",
       "        \"show\": true,\n",
       "        \"trigger\": \"item\",\n",
       "        \"triggerOn\": \"mousemove|click\",\n",
       "        \"axisPointer\": {\n",
       "            \"type\": \"line\"\n",
       "        },\n",
       "        \"textStyle\": {\n",
       "            \"fontSize\": 14\n",
       "        },\n",
       "        \"borderWidth\": 0\n",
       "    },\n",
       "    \"xAxis\": [\n",
       "        {\n",
       "            \"show\": true,\n",
       "            \"scale\": true,\n",
       "            \"nameLocation\": \"end\",\n",
       "            \"nameGap\": 15,\n",
       "            \"gridIndex\": 0,\n",
       "            \"inverse\": false,\n",
       "            \"offset\": 0,\n",
       "            \"splitNumber\": 5,\n",
       "            \"minInterval\": 0,\n",
       "            \"splitLine\": {\n",
       "                \"show\": false,\n",
       "                \"lineStyle\": {\n",
       "                    \"width\": 1,\n",
       "                    \"opacity\": 1,\n",
       "                    \"curveness\": 0,\n",
       "                    \"type\": \"solid\"\n",
       "                }\n",
       "            },\n",
       "            \"data\": null\n",
       "        }\n",
       "    ],\n",
       "    \"yAxis\": [\n",
       "        {\n",
       "            \"show\": true,\n",
       "            \"scale\": false,\n",
       "            \"nameLocation\": \"end\",\n",
       "            \"nameGap\": 15,\n",
       "            \"gridIndex\": 0,\n",
       "            \"inverse\": false,\n",
       "            \"offset\": 0,\n",
       "            \"splitNumber\": 5,\n",
       "            \"minInterval\": 0,\n",
       "            \"splitLine\": {\n",
       "                \"show\": false,\n",
       "                \"lineStyle\": {\n",
       "                    \"width\": 1,\n",
       "                    \"opacity\": 1,\n",
       "                    \"curveness\": 0,\n",
       "                    \"type\": \"solid\"\n",
       "                }\n",
       "            }\n",
       "        }\n",
       "    ],\n",
       "    \"title\": [\n",
       "        {\n",
       "            \"text\": \"\\u9ad8\\u8f6c\\u5316\\u7387\\u7528\\u6237\\u5e73\\u5747pv\",\n",
       "            \"subtext\": \"--\\u9664\\u53bb\\u65e0pv\\u7528\\u6237\"\n",
       "        }\n",
       "    ]\n",
       "};\n",
       "                chart_e3c4dc59928c4821847699f567a9b31e.setOption(option_e3c4dc59928c4821847699f567a9b31e);\n",
       "        });\n",
       "    </script>\n"
      ],
      "text/plain": [
       "<pyecharts.render.display.HTML at 0x2a18a30b668>"
      ]
     },
     "execution_count": 208,
     "metadata": {},
     "output_type": "execute_result"
    }
   ],
   "source": [
    "def avg_pv(x):\n",
    "    return list(x.Behavior_type).count('pv')/len(x.User_ID.unique())\n",
    "temp=data_highctr_pv_no0.groupby('ctr').apply(avg_pv)\n",
    "c = (\n",
    "    Line()\n",
    "    .add_xaxis(temp.index)\n",
    "    .add_yaxis(\"\", temp.values,color='#0EADB5', is_smooth=True)\n",
    "    .set_series_opts(\n",
    "        areastyle_opts=opts.AreaStyleOpts(opacity=0.5),\n",
    "        label_opts=opts.LabelOpts(is_show=False),\n",
    "    )\n",
    "    .set_global_opts(\n",
    "        title_opts=opts.TitleOpts(title=\"高转化率用户平均pv\",subtitle='--除去无pv用户'),\n",
    "        xaxis_opts=opts.AxisOpts(is_scale=True)\n",
    "\n",
    "    )\n",
    ")\n",
    "c.render_notebook()"
   ]
  },
  {
   "cell_type": "markdown",
   "metadata": {},
   "source": [
    "**发现：**\n",
    "1. 对于高转化率用户，整体上转化率越高，pv越少\n",
    "2. 转化率在一定范围内，pv数量来回震荡"
   ]
  },
  {
   "cell_type": "markdown",
   "metadata": {},
   "source": [
    "进一步查看全体数据(去除无pv用户)"
   ]
  },
  {
   "cell_type": "code",
   "execution_count": 76,
   "metadata": {},
   "outputs": [],
   "source": [
    "user_pv_count_ctr=data_ctr.groupby(['User_ID','Item_ID']).apply(count_pv)\n",
    "user_pv_count_ctr_no0=user_pv_count_ctr[user_pv_count_ctr>0]\n",
    "user_pv_count_ctr_no0=user_pv_count_ctr_no0.reset_index([0,1]).groupby(['User_ID','Item_ID']).sum().rename(columns={0:'pv_count'})\n",
    "\n",
    "data_ctr_pv_no0=data_ctr.merge(user_pv_count_ctr_no0,how='inner',left_on=['User_ID','Item_ID'],right_on=['User_ID','Item_ID'])"
   ]
  },
  {
   "cell_type": "code",
   "execution_count": 80,
   "metadata": {},
   "outputs": [
    {
     "data": {
      "text/plain": [
       "<matplotlib.legend.Legend at 0x26b93fdadd8>"
      ]
     },
     "execution_count": 80,
     "metadata": {},
     "output_type": "execute_result"
    },
    {
     "data": {
      "image/png": "[encoded data removed]",
      "text/plain": [
       "<Figure size 864x432 with 1 Axes>"
      ]
     },
     "metadata": {},
     "output_type": "display_data"
    }
   ],
   "source": [
    "plt.figure(figsize=(12,6))\n",
    "sns.lineplot(data=data_ctr_pv_no0.groupby('ctr').apply(avg_pv))\n",
    "sns.despine(left=True,bottom=True)\n",
    "\n",
    "plt.xlabel('转化率')\n",
    "plt.ylabel('用户平均pv数量')\n",
    "plt.suptitle('用户平均pv',fontsize=14)\n",
    "plt.axvline(x=data_ctr_pv_no0.groupby('ctr').apply(avg_pv).nlargest(1).index,\n",
    "            label='峰值位于：'+str(round(data_ctr_pv_no0.groupby('ctr').apply(avg_pv).nlargest(1).index[0],2)),\n",
    "            c='r',\n",
    "            ls='--',\n",
    "            alpha=0.45)\n",
    "plt.legend(fontsize=12)\n"
   ]
  },
  {
   "cell_type": "markdown",
   "metadata": {},
   "source": [
    "**发现：**\n",
    "1. 转化率从0%-2.23%时，pv迅速上升\n",
    "2. 转化率从2.23%-35%时,pv震荡下降\n",
    "3. 转化率35%以上时,pv缓慢下降"
   ]
  },
  {
   "cell_type": "markdown",
   "metadata": {},
   "source": [
    "#### 4.2.2 从浏览到下单花费的时间"
   ]
  },
  {
   "cell_type": "markdown",
   "metadata": {},
   "source": [
    "计算完整购买流程时间："
   ]
  },
  {
   "cell_type": "code",
   "execution_count": 78,
   "metadata": {},
   "outputs": [],
   "source": [
    "data_ctr_pvno0_buy=data_ctr_pv_no0.merge(data_ctr_pv_no0[data_ctr_pv_no0.Behavior_type=='buy'][['User_ID','Item_ID']].drop_duplicates(),\n",
    "                                        how='inner')"
   ]
  },
  {
   "cell_type": "code",
   "execution_count": 80,
   "metadata": {},
   "outputs": [],
   "source": [
    "def buytime(x):\n",
    "    times_min=x[x.Behavior_type=='pv']['Times'].min()\n",
    "    times_max=x[x.Behavior_type=='buy']['Times'].max()\n",
    "    k=times_max-times_min\n",
    "    return k.total_seconds()/3600\n",
    "temp=data_ctr_pvno0_buy.groupby(['User_ID','Item_ID']).apply(buytime)\n",
    "temp=temp[temp>0]\n",
    "temp=temp.rename('buytime').reset_index([0,1])\n",
    "temp2=temp.merge(data_ctr_pvno0_buy[['User_ID','Item_ID','ctr']])\n",
    "temp2=temp2.drop_duplicates()"
   ]
  },
  {
   "cell_type": "markdown",
   "metadata": {},
   "source": [
    "将人群分类进行比较："
   ]
  },
  {
   "cell_type": "code",
   "execution_count": 81,
   "metadata": {},
   "outputs": [],
   "source": [
    "temp4=pd.cut(data_ctr_pvno0_buy.ctr,bins=[0,0.2,0.4,1],labels=['low_ctr','mid_ctr','high_ctr']).rename('label')\n",
    "temp5=pd.concat([temp4,data_ctr_pvno0_buy.User_ID],axis=1)\n",
    "temp6=temp5.merge(temp)[['label','buytime']]"
   ]
  },
  {
   "cell_type": "code",
   "execution_count": 84,
   "metadata": {},
   "outputs": [
    {
     "data": {
      "text/plain": [
       "Text(0, 0.5, '平均用时')"
      ]
     },
     "execution_count": 84,
     "metadata": {},
     "output_type": "execute_result"
    },
    {
     "data": {
      "image/png": "[encoded data removed]",
      "text/plain": [
       "<Figure size 864x432 with 1 Axes>"
      ]
     },
     "metadata": {},
     "output_type": "display_data"
    }
   ],
   "source": [
    "plt.figure(figsize=(12,6))\n",
    "sns.barplot(x='label',y='buytime',data=temp6,estimator=np.mean)\n",
    "sns.set_palette(\"Paired\")\n",
    "sns.despine(left=True,bottom=True)\n",
    "plt.xlabel('转化率',fontsize=12)\n",
    "plt.ylabel('平均用时',fontsize=12)"
   ]
  },
  {
   "cell_type": "markdown",
   "metadata": {},
   "source": [
    "**发现：**总体上转化率高的用户，购物流程用时越短"
   ]
  },
  {
   "cell_type": "markdown",
   "metadata": {},
   "source": [
    "#### 4.2.3下单时间所在时间段"
   ]
  },
  {
   "cell_type": "markdown",
   "metadata": {},
   "source": [
    "给下单时间分为 **凌晨、上午、中午、下午、夜晚、深夜**"
   ]
  },
  {
   "cell_type": "code",
   "execution_count": 87,
   "metadata": {},
   "outputs": [],
   "source": [
    "data_ctr_pvno0_buy['hour']=data_ctr_pvno0_buy.Times.dt.hour\n",
    "buy_hour_labeled=pd.cut(data_ctr_pvno0_buy[data_ctr_pvno0_buy.Behavior_type=='buy'].hour,\n",
    "                        bins=[0,3,6,11,13,18,22,24],labels=['深夜1','凌晨','上午','中午','下午','夜晚','深夜2'],include_lowest=True)\n",
    "buy_hour_labeled=pd.Series(buy_hour_labeled.to_list(),name='hour_label')\n",
    "buy_hour_labeled[buy_hour_labeled=='深夜1']='深夜'\n",
    "buy_hour_labeled[buy_hour_labeled=='深夜2']='深夜'"
   ]
  },
  {
   "cell_type": "markdown",
   "metadata": {},
   "source": [
    "下单时间分布："
   ]
  },
  {
   "cell_type": "code",
   "execution_count": 95,
   "metadata": {},
   "outputs": [
    {
     "data": {
      "text/html": [
       "\n",
       "<script>\n",
       "    require.config({\n",
       "        paths: {\n",
       "            'echarts':'https://assets.pyecharts.org/assets/echarts.min'\n",
       "        }\n",
       "    });\n",
       "</script>\n",
       "\n",
       "        <div id=\"63e95fc1f2214152a207f48d457881c7\" style=\"width:900px; height:500px;\"></div>\n",
       "\n",
       "<script>\n",
       "        require(['echarts'], function(echarts) {\n",
       "                var chart_63e95fc1f2214152a207f48d457881c7 = echarts.init(\n",
       "                    document.getElementById('63e95fc1f2214152a207f48d457881c7'), 'white', {renderer: 'canvas'});\n",
       "                var option_63e95fc1f2214152a207f48d457881c7 = {\n",
       "    \"animation\": true,\n",
       "    \"animationThreshold\": 2000,\n",
       "    \"animationDuration\": 1000,\n",
       "    \"animationEasing\": \"cubicOut\",\n",
       "    \"animationDelay\": 0,\n",
       "    \"animationDurationUpdate\": 300,\n",
       "    \"animationEasingUpdate\": \"cubicOut\",\n",
       "    \"animationDelayUpdate\": 0,\n",
       "    \"color\": [\n",
       "        \"#c23531\",\n",
       "        \"#2f4554\",\n",
       "        \"#61a0a8\",\n",
       "        \"#d48265\",\n",
       "        \"#749f83\",\n",
       "        \"#ca8622\",\n",
       "        \"#bda29a\",\n",
       "        \"#6e7074\",\n",
       "        \"#546570\",\n",
       "        \"#c4ccd3\",\n",
       "        \"#f05b72\",\n",
       "        \"#ef5b9c\",\n",
       "        \"#f47920\",\n",
       "        \"#905a3d\",\n",
       "        \"#fab27b\",\n",
       "        \"#2a5caa\",\n",
       "        \"#444693\",\n",
       "        \"#726930\",\n",
       "        \"#b2d235\",\n",
       "        \"#6d8346\",\n",
       "        \"#ac6767\",\n",
       "        \"#1d953f\",\n",
       "        \"#6950a1\",\n",
       "        \"#918597\"\n",
       "    ],\n",
       "    \"series\": [\n",
       "        {\n",
       "            \"type\": \"pie\",\n",
       "            \"clockwise\": true,\n",
       "            \"data\": [\n",
       "                {\n",
       "                    \"name\": \"\\u4e0a\\u5348\",\n",
       "                    \"value\": 1938\n",
       "                },\n",
       "                {\n",
       "                    \"name\": \"\\u6df1\\u591c\",\n",
       "                    \"value\": 1610\n",
       "                },\n",
       "                {\n",
       "                    \"name\": \"\\u51cc\\u6668\",\n",
       "                    \"value\": 1363\n",
       "                },\n",
       "                {\n",
       "                    \"name\": \"\\u4e0b\\u5348\",\n",
       "                    \"value\": 1281\n",
       "                },\n",
       "                {\n",
       "                    \"name\": \"\\u4e2d\\u5348\",\n",
       "                    \"value\": 987\n",
       "                },\n",
       "                {\n",
       "                    \"name\": \"\\u591c\\u665a\",\n",
       "                    \"value\": 147\n",
       "                }\n",
       "            ],\n",
       "            \"radius\": [\n",
       "                \"0%\",\n",
       "                \"75%\"\n",
       "            ],\n",
       "            \"center\": [\n",
       "                \"35%\",\n",
       "                \"50%\"\n",
       "            ],\n",
       "            \"label\": {\n",
       "                \"show\": true,\n",
       "                \"position\": \"top\",\n",
       "                \"margin\": 8,\n",
       "                \"formatter\": \"{b}: {c}\"\n",
       "            },\n",
       "            \"rippleEffect\": {\n",
       "                \"show\": true,\n",
       "                \"brushType\": \"stroke\",\n",
       "                \"scale\": 2.5,\n",
       "                \"period\": 4\n",
       "            }\n",
       "        }\n",
       "    ],\n",
       "    \"legend\": [\n",
       "        {\n",
       "            \"data\": [\n",
       "                \"\\u4e0a\\u5348\",\n",
       "                \"\\u6df1\\u591c\",\n",
       "                \"\\u51cc\\u6668\",\n",
       "                \"\\u4e0b\\u5348\",\n",
       "                \"\\u4e2d\\u5348\",\n",
       "                \"\\u591c\\u665a\"\n",
       "            ],\n",
       "            \"selected\": {},\n",
       "            \"show\": true,\n",
       "            \"left\": \"20%\"\n",
       "        }\n",
       "    ],\n",
       "    \"tooltip\": {\n",
       "        \"show\": true,\n",
       "        \"trigger\": \"item\",\n",
       "        \"triggerOn\": \"mousemove|click\",\n",
       "        \"axisPointer\": {\n",
       "            \"type\": \"line\"\n",
       "        },\n",
       "        \"textStyle\": {\n",
       "            \"fontSize\": 14\n",
       "        },\n",
       "        \"borderWidth\": 0\n",
       "    },\n",
       "    \"title\": [\n",
       "        {\n",
       "            \"text\": \"\\u5404\\u65f6\\u6bb5\\u7684\\u4e0b\\u5355\\u53d1\\u5e03\"\n",
       "        }\n",
       "    ]\n",
       "};\n",
       "                chart_63e95fc1f2214152a207f48d457881c7.setOption(option_63e95fc1f2214152a207f48d457881c7);\n",
       "        });\n",
       "    </script>\n"
      ],
      "text/plain": [
       "<pyecharts.render.display.HTML at 0x2a19b68ee10>"
      ]
     },
     "execution_count": 95,
     "metadata": {},
     "output_type": "execute_result"
    }
   ],
   "source": [
    "temp_data=buy_hour_labeled.value_counts()\n",
    "c = (\n",
    "    Pie()\n",
    "    .add(\n",
    "        \"\",\n",
    "        [list(z) for z in zip(temp_data.index.tolist(), temp_data.values.tolist())],\n",
    "        center=[\"35%\", \"50%\"],\n",
    "    )\n",
    "    .set_global_opts(\n",
    "        title_opts=opts.TitleOpts(title=\"各时段的下单发布\"),\n",
    "        legend_opts=opts.LegendOpts(pos_left=\"20%\"),\n",
    "    )\n",
    "    .set_series_opts(label_opts=opts.LabelOpts(formatter=\"{b}: {c}\"))\n",
    ")\n",
    "c.render_notebook()"
   ]
  },
  {
   "cell_type": "markdown",
   "metadata": {},
   "source": [
    "查看不同转化率下，各时间段的下单数:"
   ]
  },
  {
   "cell_type": "code",
   "execution_count": 99,
   "metadata": {},
   "outputs": [],
   "source": [
    "ctr_label_temp=pd.cut(data_ctr_pvno0_buy[data_ctr_pvno0_buy.Behavior_type=='buy'].ctr,\n",
    "                bins=[0,0.2,0.4,1],labels=['low_ctr','mid_ctr','high_ctr'],include_lowest=True)\n",
    "ctr_label_temp=ctr_label_temp.rename('ctr_label')\n",
    "ctr_temp=data_ctr_pvno0_buy[data_ctr_pvno0_buy.Behavior_type=='buy'].ctr\n",
    "hour_temp=data_ctr_pvno0_buy[data_ctr_pvno0_buy.Behavior_type=='buy'].hour\n",
    "hour_label_temp=pd.cut(data_ctr_pvno0_buy[data_ctr_pvno0_buy.Behavior_type=='buy'].hour,\n",
    "                        bins=[0,3,6,11,13,18,22,24],labels=['深夜1','凌晨','上午','中午','下午','夜晚','深夜2'],include_lowest=True).rename('hour_label')\n",
    "ctr_hour_buy=pd.concat([ctr_label_temp,ctr_temp,hour_temp],axis=1)\n",
    "hour_label_temp=pd.Series(hour_label_temp.to_list(),index=hour_label_temp.index,name='hour_label')\n",
    "hour_label_temp[hour_label_temp=='深夜1']='深夜'\n",
    "hour_label_temp[hour_label_temp=='深夜2']='深夜'\n",
    "ctr_hour_buy=pd.concat([hour_label_temp,ctr_hour_buy],axis=1)"
   ]
  },
  {
   "cell_type": "code",
   "execution_count": 119,
   "metadata": {},
   "outputs": [
    {
     "data": {
      "text/html": [
       "\n",
       "<script>\n",
       "    require.config({\n",
       "        paths: {\n",
       "            'echarts':'https://assets.pyecharts.org/assets/echarts.min'\n",
       "        }\n",
       "    });\n",
       "</script>\n",
       "\n",
       "        <div id=\"5382d5fb77654c46a30693976f399b7d\" style=\"width:900px; height:500px;\"></div>\n",
       "\n",
       "<script>\n",
       "        require(['echarts'], function(echarts) {\n",
       "                var chart_5382d5fb77654c46a30693976f399b7d = echarts.init(\n",
       "                    document.getElementById('5382d5fb77654c46a30693976f399b7d'), 'white', {renderer: 'canvas'});\n",
       "                var option_5382d5fb77654c46a30693976f399b7d = {\n",
       "    \"animation\": true,\n",
       "    \"animationThreshold\": 2000,\n",
       "    \"animationDuration\": 1000,\n",
       "    \"animationEasing\": \"cubicOut\",\n",
       "    \"animationDelay\": 0,\n",
       "    \"animationDurationUpdate\": 300,\n",
       "    \"animationEasingUpdate\": \"cubicOut\",\n",
       "    \"animationDelayUpdate\": 0,\n",
       "    \"color\": [\n",
       "        \"#c23531\",\n",
       "        \"#2f4554\",\n",
       "        \"#61a0a8\",\n",
       "        \"#d48265\",\n",
       "        \"#749f83\",\n",
       "        \"#ca8622\",\n",
       "        \"#bda29a\",\n",
       "        \"#6e7074\",\n",
       "        \"#546570\",\n",
       "        \"#c4ccd3\",\n",
       "        \"#f05b72\",\n",
       "        \"#ef5b9c\",\n",
       "        \"#f47920\",\n",
       "        \"#905a3d\",\n",
       "        \"#fab27b\",\n",
       "        \"#2a5caa\",\n",
       "        \"#444693\",\n",
       "        \"#726930\",\n",
       "        \"#b2d235\",\n",
       "        \"#6d8346\",\n",
       "        \"#ac6767\",\n",
       "        \"#1d953f\",\n",
       "        \"#6950a1\",\n",
       "        \"#918597\"\n",
       "    ],\n",
       "    \"series\": [\n",
       "        {\n",
       "            \"type\": \"bar\",\n",
       "            \"name\": \"\\u4f4e\\u8f6c\\u5316\\u7387\",\n",
       "            \"data\": [\n",
       "                1439,\n",
       "                941,\n",
       "                714,\n",
       "                1000,\n",
       "                105,\n",
       "                1175\n",
       "            ],\n",
       "            \"barCategoryGap\": \"20%\",\n",
       "            \"barGap\": 0,\n",
       "            \"label\": {\n",
       "                \"show\": true,\n",
       "                \"position\": \"top\",\n",
       "                \"margin\": 8\n",
       "            }\n",
       "        },\n",
       "        {\n",
       "            \"type\": \"bar\",\n",
       "            \"name\": \"\\u4e2d\\u8f6c\\u5316\\u7387\",\n",
       "            \"data\": [\n",
       "                382,\n",
       "                277,\n",
       "                217,\n",
       "                291,\n",
       "                37,\n",
       "                346\n",
       "            ],\n",
       "            \"barCategoryGap\": \"20%\",\n",
       "            \"barGap\": 0,\n",
       "            \"label\": {\n",
       "                \"show\": true,\n",
       "                \"position\": \"top\",\n",
       "                \"margin\": 8\n",
       "            }\n",
       "        },\n",
       "        {\n",
       "            \"type\": \"bar\",\n",
       "            \"name\": \"\\u9ad8\\u8f6c\\u5316\\u7387\",\n",
       "            \"data\": [\n",
       "                117,\n",
       "                63,\n",
       "                56,\n",
       "                72,\n",
       "                5,\n",
       "                89\n",
       "            ],\n",
       "            \"barCategoryGap\": \"20%\",\n",
       "            \"barGap\": 0,\n",
       "            \"label\": {\n",
       "                \"show\": true,\n",
       "                \"position\": \"top\",\n",
       "                \"margin\": 8\n",
       "            }\n",
       "        }\n",
       "    ],\n",
       "    \"legend\": [\n",
       "        {\n",
       "            \"data\": [\n",
       "                \"\\u4f4e\\u8f6c\\u5316\\u7387\",\n",
       "                \"\\u4e2d\\u8f6c\\u5316\\u7387\",\n",
       "                \"\\u9ad8\\u8f6c\\u5316\\u7387\"\n",
       "            ],\n",
       "            \"selected\": {\n",
       "                \"\\u4f4e\\u8f6c\\u5316\\u7387\": true,\n",
       "                \"\\u4e2d\\u8f6c\\u5316\\u7387\": true,\n",
       "                \"\\u9ad8\\u8f6c\\u5316\\u7387\": true\n",
       "            },\n",
       "            \"show\": true\n",
       "        }\n",
       "    ],\n",
       "    \"tooltip\": {\n",
       "        \"show\": true,\n",
       "        \"trigger\": \"item\",\n",
       "        \"triggerOn\": \"mousemove|click\",\n",
       "        \"axisPointer\": {\n",
       "            \"type\": \"line\"\n",
       "        },\n",
       "        \"textStyle\": {\n",
       "            \"fontSize\": 14\n",
       "        },\n",
       "        \"borderWidth\": 0\n",
       "    },\n",
       "    \"xAxis\": [\n",
       "        {\n",
       "            \"show\": true,\n",
       "            \"scale\": false,\n",
       "            \"nameLocation\": \"end\",\n",
       "            \"nameGap\": 15,\n",
       "            \"gridIndex\": 0,\n",
       "            \"inverse\": false,\n",
       "            \"offset\": 0,\n",
       "            \"splitNumber\": 5,\n",
       "            \"minInterval\": 0,\n",
       "            \"splitLine\": {\n",
       "                \"show\": false,\n",
       "                \"lineStyle\": {\n",
       "                    \"width\": 1,\n",
       "                    \"opacity\": 1,\n",
       "                    \"curveness\": 0,\n",
       "                    \"type\": \"solid\"\n",
       "                }\n",
       "            },\n",
       "            \"data\": [\n",
       "                \"\\u4e0a\\u5348\",\n",
       "                \"\\u4e0b\\u5348\",\n",
       "                \"\\u4e2d\\u5348\",\n",
       "                \"\\u51cc\\u6668\",\n",
       "                \"\\u591c\\u665a\",\n",
       "                \"\\u6df1\\u591c\"\n",
       "            ]\n",
       "        }\n",
       "    ],\n",
       "    \"yAxis\": [\n",
       "        {\n",
       "            \"show\": true,\n",
       "            \"scale\": false,\n",
       "            \"nameLocation\": \"end\",\n",
       "            \"nameGap\": 15,\n",
       "            \"gridIndex\": 0,\n",
       "            \"inverse\": false,\n",
       "            \"offset\": 0,\n",
       "            \"splitNumber\": 5,\n",
       "            \"minInterval\": 0,\n",
       "            \"splitLine\": {\n",
       "                \"show\": false,\n",
       "                \"lineStyle\": {\n",
       "                    \"width\": 1,\n",
       "                    \"opacity\": 1,\n",
       "                    \"curveness\": 0,\n",
       "                    \"type\": \"solid\"\n",
       "                }\n",
       "            }\n",
       "        }\n",
       "    ],\n",
       "    \"title\": [\n",
       "        {\n",
       "            \"text\": \"\\u4e0d\\u540c\\u8f6c\\u5316\\u7387\\u4e0b\\u7684\\u5404\\u65f6\\u6bb5\\u5355\\u91cf\\u5206\\u5e03\"\n",
       "        }\n",
       "    ]\n",
       "};\n",
       "                chart_5382d5fb77654c46a30693976f399b7d.setOption(option_5382d5fb77654c46a30693976f399b7d);\n",
       "        });\n",
       "    </script>\n"
      ],
      "text/plain": [
       "<pyecharts.render.display.HTML at 0x2a19a0b3908>"
      ]
     },
     "execution_count": 119,
     "metadata": {},
     "output_type": "execute_result"
    }
   ],
   "source": [
    "temp_data=ctr_hour_buy[['hour_label','ctr_label','ctr']].groupby(['hour_label','ctr_label']).count().reset_index()\n",
    "temp_high=temp_data[temp_data.ctr_label=='high_ctr']\n",
    "temp_mid=temp_data[temp_data.ctr_label=='mid_ctr']\n",
    "temp_low=temp_data[temp_data.ctr_label=='low_ctr']\n",
    "c=(\n",
    "Bar()\n",
    ".add_xaxis(temp_data.hour_label.unique().tolist())\n",
    ".add_yaxis('低转化率',temp_low.ctr.tolist(),gap=0)\n",
    ".add_yaxis('中转化率',temp_mid.ctr.tolist(),gap=0)\n",
    ".add_yaxis('高转化率',temp_high.ctr.tolist(),gap=0)\n",
    ".set_global_opts(title_opts=opts.TitleOpts(title=\"不同转化率下的各时段单量分布\"))\n",
    ")\n",
    "c.render_notebook()"
   ]
  },
  {
   "cell_type": "markdown",
   "metadata": {},
   "source": [
    "**发现：** \n",
    "1. 不同转化率下，各时段下单数趋势近似;转化率与时间段关系不大\n",
    "2. 上午、深夜、凌晨的下单数额较多"
   ]
  },
  {
   "cell_type": "markdown",
   "metadata": {},
   "source": [
    "查看一周内不同日期的下单数量："
   ]
  },
  {
   "cell_type": "code",
   "execution_count": 120,
   "metadata": {},
   "outputs": [],
   "source": [
    "test=pd.cut(data_ctr_pvno0_buy[data_ctr_pvno0_buy.Behavior_type=='buy'].day_of_week,\n",
    "       bins=[0,4,6],labels=['工作日','周末'],\n",
    "       include_lowest=True,\n",
    "       right=True).rename('label')\n",
    "buy_count_day=pd.concat([data_ctr_pvno0_buy[data_ctr_pvno0_buy.Behavior_type=='buy'].day_of_week,\n",
    "                        test],axis=1)"
   ]
  },
  {
   "cell_type": "code",
   "execution_count": 90,
   "metadata": {},
   "outputs": [
    {
     "data": {
      "image/png": "[encoded data removed]",
      "text/plain": [
       "<Figure size 1296x432 with 2 Axes>"
      ]
     },
     "metadata": {},
     "output_type": "display_data"
    }
   ],
   "source": [
    "fig,ax=plt.subplots(1,2)\n",
    "fig.set_size_inches(18,6)\n",
    "\n",
    "ax[1].pie(x=buy_count_day.label.value_counts(),labels=buy_count_day.label.value_counts().index,startangle=20,autopct='%1.1f')\n",
    "sns.countplot(x='day_of_week',data=buy_count_day,ax=ax[0])\n",
    "props={'title':'一周每日购买数','xlabel':'日期','ylabel':'购买数'}\n",
    "ax[0].set(**props)\n",
    "ax[1].set_title('工作日/周末购买占比')\n",
    "ax[1].legend()\n",
    "sns.set_palette('Paired')\n",
    "sns.despine(left=True,bottom=True)"
   ]
  },
  {
   "cell_type": "markdown",
   "metadata": {},
   "source": [
    "**发现：** \n",
    "1. 购买峰值出现在周六\n",
    "2. 其余日期购买数相近\n",
    "3. 工作日购买数量远大于周末"
   ]
  },
  {
   "cell_type": "markdown",
   "metadata": {},
   "source": [
    "#### 4.2.4浏览时间所在时间段\n"
   ]
  },
  {
   "cell_type": "code",
   "execution_count": 189,
   "metadata": {
    "scrolled": true
   },
   "outputs": [],
   "source": [
    "data_ctr_pv_no0['Times']=pd.to_datetime(data_ctr_pv_no0.Times)\n",
    "data_ctr_pv_no0['hour']=data_ctr_pv_no0.Times.dt.hour\n",
    "pv_hour_labeled=pd.cut(data_ctr_pv_no0.hour,\n",
    "                        bins=[0,3,6,11,13,18,22,24],labels=['深夜1','凌晨','上午','中午','下午','夜晚','深夜2'],include_lowest=True)\n",
    "pv_hour_labeled=pd.Series(pv_hour_labeled.to_list(),index=data_ctr_pv_no0.index,name='hour_label')\n",
    "pv_hour_labeled[pv_hour_labeled=='深夜1']='深夜'\n",
    "pv_hour_labeled[pv_hour_labeled=='深夜2']='深夜'\n",
    "\n",
    "ctr_label_temp_pv=pd.cut(data_ctr_pv_no0.ctr,\n",
    "                bins=[0,0.2,0.4,1],labels=['low_ctr','mid_ctr','high_ctr'],include_lowest=True).rename('ctr_label')\n",
    "pv_hour_ctr_labeled=pd.concat([ctr_label_temp_pv,pv_hour_labeled],axis=1)"
   ]
  },
  {
   "cell_type": "code",
   "execution_count": 190,
   "metadata": {},
   "outputs": [],
   "source": [
    "test1=pd.cut(data_ctr_pv_no0.day_of_week,\n",
    "       bins=[0,4,6],labels=['工作日','周末'],\n",
    "       include_lowest=True,\n",
    "       right=True).rename('label')\n",
    "pv_count_day=pd.concat([data_ctr_pv_no0.day_of_week,\n",
    "                        test1],axis=1)"
   ]
  },
  {
   "cell_type": "markdown",
   "metadata": {},
   "source": [
    "对比查看浏览与购买随时间变化："
   ]
  },
  {
   "cell_type": "code",
   "execution_count": 192,
   "metadata": {
    "scrolled": false
   },
   "outputs": [],
   "source": [
    "pv_hour=data_ctr_pv_no0[data_ctr_pv_no0.Behavior_type=='pv'][['hour','ctr']]\n",
    "buy_hour=data_ctr_pvno0_buy[data_ctr_pvno0_buy.Behavior_type=='buy'][['hour','ctr']]"
   ]
  },
  {
   "cell_type": "code",
   "execution_count": 101,
   "metadata": {
    "scrolled": false
   },
   "outputs": [
    {
     "data": {
      "image/png": "[encoded data removed]",
      "text/plain": [
       "<Figure size 864x432 with 2 Axes>"
      ]
     },
     "metadata": {},
     "output_type": "display_data"
    }
   ],
   "source": [
    "fig,ax1=plt.subplots()\n",
    "fig.set_size_inches(12,6)\n",
    "ax2=ax1.twinx()\n",
    "\n",
    "sns.lineplot(data=pv_hour.groupby('hour').count(),legend=False,\n",
    "             ax=ax1,palette='GnBu_d',label='浏览数')\n",
    "sns.lineplot(data=buy_hour.groupby('hour').count(),legend=False,\n",
    "             ax=ax2,palette='Reds',label='购买数')\n",
    "\n",
    "\n",
    "ax1.legend(loc=(0.85,0.9),fontsize=12)\n",
    "ax2.legend(loc=(0.85,0.84),fontsize=12)\n",
    "ax1.set(xlabel='时间',ylabel='浏览数')\n",
    "ax2.set(ylabel='购买数')\n",
    "ax1.set_title(label='不同时间下的操作数量',fontsize=12)\n",
    "sns.despine(left=True,bottom=True)"
   ]
  },
  {
   "cell_type": "markdown",
   "metadata": {},
   "source": [
    "**发现：**\n",
    "1. 购买与浏览总体趋势相似\n",
    "2. 相对于浏览，发生在0a.m - 10.a.m的购买行为占比较多，也就是说流失现象相对集中在10a.m之后"
   ]
  },
  {
   "cell_type": "markdown",
   "metadata": {},
   "source": [
    "**总结：** \n",
    "1. 高转化率用户购买流程时间较短\n",
    "2. 时间上流失现象较为集中于10a.m之后\n",
    "3. 日期上流失现象较为集中于周末\n",
    "4. 无论转化率如何，购买，浏览都集中在上午、深夜、凌晨\n",
    "5. 总体上，在转化率超过阈值后转化率越高，浏览次数越少转化率；超越阈值之前，随着转化率增高，浏览次数迅速增高"
   ]
  },
  {
   "cell_type": "markdown",
   "metadata": {},
   "source": [
    "###  4.3用户流失原因分析"
   ]
  },
  {
   "cell_type": "markdown",
   "metadata": {},
   "source": [
    "流失原因使用假设-检验的方式\n",
    "\n",
    "以下是根据以上数据探索得出的假设，假设以客户购买目标是否明确为区分：\n",
    "\n",
    "**客户有明确购买目标:**\n",
    "1. 搜索结果不够准确，无法通过搜索快速找到目标物品导致转化失败\n",
    "2. 产品分类不理想/软件逻辑混乱，无法快速接触目标物品，长时间找不到目标物品导致转化失败\n",
    "\n",
    "**客户无明确购买目标：**   \n",
    "3. 推送物品不够精准，无法促使目标客户转化\n",
    "4. 推送时间不够准确"
   ]
  },
  {
   "cell_type": "markdown",
   "metadata": {},
   "source": [
    "受到数据以及获得信息限制，只可对以下做出直接检验：\n",
    "1. 搜索结果不够准确，无法通过搜索快速找到目标物品导致转化失败\n",
    "3. 推送物品不够精准，无法促使目标客户转化"
   ]
  },
  {
   "cell_type": "markdown",
   "metadata": {},
   "source": [
    "对比购买量前十的物品类别以及浏览量前十的物品类别："
   ]
  },
  {
   "cell_type": "code",
   "execution_count": 102,
   "metadata": {},
   "outputs": [],
   "source": [
    "cat_buy=data_ctr_pv_no0[data_ctr_pv_no0.Behavior_type=='buy'].groupby('Category_ID')['User_ID'].count().rename(columns={'User_ID':'buy_num'})\n",
    "cat_pv=data_ctr_pv_no0[data_ctr_pv_no0.Behavior_type=='pv'].groupby('Category_ID')['User_ID'].count().rename(columns={'User_ID':'pv_num'})"
   ]
  },
  {
   "cell_type": "code",
   "execution_count": 201,
   "metadata": {},
   "outputs": [
    {
     "data": {
      "text/plain": [
       "Category_ID\n",
       "4756105    194603\n",
       "2355072    138066\n",
       "4145813    136482\n",
       "3607361    129935\n",
       "982926     121739\n",
       "2520377     87627\n",
       "4801426     80694\n",
       "1320293     78206\n",
       "2465336     65860\n",
       "3002561     62103\n",
       "dtype: int64"
      ]
     },
     "execution_count": 201,
     "metadata": {},
     "output_type": "execute_result"
    }
   ],
   "source": [
    "cat_pv.nlargest(10)"
   ]
  },
  {
   "cell_type": "code",
   "execution_count": 202,
   "metadata": {},
   "outputs": [
    {
     "data": {
      "text/plain": [
       "Category_ID\n",
       "4756105    222\n",
       "4145813    180\n",
       "982926     143\n",
       "4801426    141\n",
       "3607361    124\n",
       "2735466    110\n",
       "2355072    105\n",
       "1320293     98\n",
       "2640118     94\n",
       "2885642     89\n",
       "dtype: int64"
      ]
     },
     "execution_count": 202,
     "metadata": {},
     "output_type": "execute_result"
    }
   ],
   "source": [
    "cat_buy.nlargest(10)"
   ]
  },
  {
   "cell_type": "markdown",
   "metadata": {},
   "source": [
    "**发现：**购买量最大的前十类商品与浏览量前十的商品几乎没有重合"
   ]
  },
  {
   "cell_type": "markdown",
   "metadata": {},
   "source": [
    "用可视化查看更大尺度的重合情况"
   ]
  },
  {
   "cell_type": "markdown",
   "metadata": {},
   "source": [
    "**发现：**随着尺度变大，购买和浏览的重合度进一步下降（红色为购买，绿色为浏览）\n",
    "\n",
    "**证明：**无论是搜索结果或推送机制，其精准度确实不够"
   ]
  },
  {
   "cell_type": "markdown",
   "metadata": {},
   "source": [
    "其余假设只可通过之前的数据探索进行侧面验证："
   ]
  },
  {
   "attachments": {
    "image.png": {
     "image/png": "[encoded data removed]"
    }
   },
   "cell_type": "markdown",
   "metadata": {},
   "source": [
    "![image.png](attachment:image.png)"
   ]
  },
  {
   "cell_type": "markdown",
   "metadata": {},
   "source": [
    "**观察上图发现：**转化率从高0到2.23%，浏览数迅速上升，说明对于有需求的用户为找到目标物品，会进行多次尝试；且需求越强烈/目的越明确，尝试次数越多\n",
    "\n"
   ]
  },
  {
   "attachments": {
    "image.png": {
     "image/png": "[encoded data removed]"
    }
   },
   "cell_type": "markdown",
   "metadata": {},
   "source": [
    "![image.png](attachment:image.png)"
   ]
  },
  {
   "cell_type": "markdown",
   "metadata": {},
   "source": [
    "**结合上两图发现：** **高转化率用户，无论是时间和浏览数都变少，但时间减少的趋势较平缓**；这说明快速的接触到目标物品于转化率有关联\n",
    "\n",
    "**那么有两种可能**：\n",
    "1. 目标明确的用户本身转化率就高\n",
    "2. 快速接触目标物品有助于转化\n",
    "\n",
    "受到数据&信息限制无法，单独验证两种可能；\n",
    "\n",
    "但能确定，两者不会单独存在，因为若单独存在，则图一应该是（总体上）单调递减的"
   ]
  },
  {
   "cell_type": "markdown",
   "metadata": {},
   "source": [
    "## 5. 提出建议"
   ]
  },
  {
   "cell_type": "markdown",
   "metadata": {},
   "source": [
    "技术侧：\n",
    "1. 提高搜索识别准确度\n",
    "2. 提高推荐系统精度\n",
    "\n",
    "产品侧：\n",
    "1. 和技术部合作，根据用户的购买记录，构建用户习惯；预先对同质化的商品/搜索结果进行筛选，缩短接触目标物品的时间\n",
    "2. 根据用户习惯，在首页添加偏爱商品类别的快速通道\n",
    "\n",
    "运营侧：\n",
    "1. 根据用户活跃时间，选择在合适的时间推送活动提醒/商品推荐；即上午、下午、深夜，具体而言是[6,11]、[11,13]、[13,18]、[18,22]、[22,24]\n",
    "2. 针对流失严重的时段/日期,提前进行流失干预；具体而言是10a.m之后、周末"
   ]
  }
 ],
 "metadata": {
  "kernelspec": {
   "display_name": "Python 3",
   "language": "python",
   "name": "python3"
  },
  "language_info": {
   "codemirror_mode": {
    "name": "ipython",
    "version": 3
   },
   "file_extension": ".py",
   "mimetype": "text/x-python",
   "name": "python",
   "nbconvert_exporter": "python",
   "pygments_lexer": "ipython3",
   "version": "3.7.3"
  }
 },
 "nbformat": 4,
 "nbformat_minor": 2
}
